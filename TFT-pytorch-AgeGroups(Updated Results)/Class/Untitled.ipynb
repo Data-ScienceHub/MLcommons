{
 "cells": [
  {
   "cell_type": "code",
   "execution_count": 1,
   "metadata": {},
   "outputs": [],
   "source": [
    "import os, gc\n",
    "import torch\n",
    "\n",
    "import warnings\n",
    "warnings.filterwarnings(\"ignore\")\n",
    "\n",
    "import pandas as pd\n",
    "pd.set_option('display.max_columns', None)"
   ]
  },
  {
   "cell_type": "code",
   "execution_count": 2,
   "metadata": {},
   "outputs": [
    {
     "name": "stdout",
     "output_type": "stream",
     "text": [
      "cpu\n"
     ]
    }
   ],
   "source": [
    "device = torch.device(\"cuda\") if torch.cuda.is_available() else torch.device(\"cpu\")\n",
    "print(device)"
   ]
  },
  {
   "cell_type": "code",
   "execution_count": 3,
   "metadata": {},
   "outputs": [],
   "source": [
    "import pytorch_lightning as pl\n",
    "from pytorch_lightning.callbacks import EarlyStopping\n",
    "\n",
    "from pytorch_forecasting import TemporalFusionTransformer, TimeSeriesDataSet\n",
    "from pytorch_forecasting.data import GroupNormalizer, MultiNormalizer\n",
    "from pytorch_forecasting.metrics import RMSE, MultiLoss"
   ]
  },
  {
   "cell_type": "code",
   "execution_count": 5,
   "metadata": {},
   "outputs": [],
   "source": [
    "from dataclasses import dataclass\n",
    "\n",
    "@dataclass\n",
    "class args:\n",
    "    result_folder = '../results/original/AGE1829/'\n",
    "    figPath = os.path.join(result_folder, 'figures')\n",
    "    checkpoint_folder = os.path.join(result_folder, 'checkpoints')\n",
    "    input_filePath = '../2022_May_age_groups/Total.csv'\n",
    "    configPath = '../configurations/age_groups.json'\n",
    "\n",
    "    # Path/URL of the checkpoint from which training is resumed\n",
    "    ckpt_model_path = None # os.path.join(checkpoint_folder, 'latest-epoch=0.ckpt')\n",
    "    \n",
    "    # set this to false when submitting batch script, otherwise it prints a lot of lines\n",
    "    show_progress_bar = False\n",
    "    static_feature_index = 2"
   ]
  },
  {
   "cell_type": "code",
   "execution_count": 6,
   "metadata": {},
   "outputs": [
    {
     "name": "stdout",
     "output_type": "stream",
     "text": [
      "(2541878, 14)\n"
     ]
    },
    {
     "data": {
      "text/html": [
       "<div>\n",
       "<style scoped>\n",
       "    .dataframe tbody tr th:only-of-type {\n",
       "        vertical-align: middle;\n",
       "    }\n",
       "\n",
       "    .dataframe tbody tr th {\n",
       "        vertical-align: top;\n",
       "    }\n",
       "\n",
       "    .dataframe thead th {\n",
       "        text-align: right;\n",
       "    }\n",
       "</style>\n",
       "<table border=\"1\" class=\"dataframe\">\n",
       "  <thead>\n",
       "    <tr style=\"text-align: right;\">\n",
       "      <th></th>\n",
       "      <th>FIPS</th>\n",
       "      <th>UNDER5</th>\n",
       "      <th>AGE517</th>\n",
       "      <th>AGE1829</th>\n",
       "      <th>AGE3039</th>\n",
       "      <th>AGE4049</th>\n",
       "      <th>AGE5064</th>\n",
       "      <th>AGE6574</th>\n",
       "      <th>AGE75PLUS</th>\n",
       "      <th>Date</th>\n",
       "      <th>VaccinationFull</th>\n",
       "      <th>Cases</th>\n",
       "      <th>TimeFromStart</th>\n",
       "      <th>SinWeekly</th>\n",
       "    </tr>\n",
       "  </thead>\n",
       "  <tbody>\n",
       "    <tr>\n",
       "      <th>0</th>\n",
       "      <td>1001</td>\n",
       "      <td>0.0596</td>\n",
       "      <td>0.1725</td>\n",
       "      <td>0.1468</td>\n",
       "      <td>0.1315</td>\n",
       "      <td>0.1321</td>\n",
       "      <td>0.1965</td>\n",
       "      <td>0.0922</td>\n",
       "      <td>0.0689</td>\n",
       "      <td>2020-12-13</td>\n",
       "      <td>0.0</td>\n",
       "      <td>0.0</td>\n",
       "      <td>288</td>\n",
       "      <td>-0.7818</td>\n",
       "    </tr>\n",
       "    <tr>\n",
       "      <th>1</th>\n",
       "      <td>1001</td>\n",
       "      <td>0.0596</td>\n",
       "      <td>0.1725</td>\n",
       "      <td>0.1468</td>\n",
       "      <td>0.1315</td>\n",
       "      <td>0.1321</td>\n",
       "      <td>0.1965</td>\n",
       "      <td>0.0922</td>\n",
       "      <td>0.0689</td>\n",
       "      <td>2020-12-14</td>\n",
       "      <td>0.0</td>\n",
       "      <td>96.0</td>\n",
       "      <td>289</td>\n",
       "      <td>0.0000</td>\n",
       "    </tr>\n",
       "    <tr>\n",
       "      <th>2</th>\n",
       "      <td>1001</td>\n",
       "      <td>0.0596</td>\n",
       "      <td>0.1725</td>\n",
       "      <td>0.1468</td>\n",
       "      <td>0.1315</td>\n",
       "      <td>0.1321</td>\n",
       "      <td>0.1965</td>\n",
       "      <td>0.0922</td>\n",
       "      <td>0.0689</td>\n",
       "      <td>2020-12-15</td>\n",
       "      <td>0.0</td>\n",
       "      <td>97.0</td>\n",
       "      <td>290</td>\n",
       "      <td>0.7818</td>\n",
       "    </tr>\n",
       "    <tr>\n",
       "      <th>3</th>\n",
       "      <td>1001</td>\n",
       "      <td>0.0596</td>\n",
       "      <td>0.1725</td>\n",
       "      <td>0.1468</td>\n",
       "      <td>0.1315</td>\n",
       "      <td>0.1321</td>\n",
       "      <td>0.1965</td>\n",
       "      <td>0.0922</td>\n",
       "      <td>0.0689</td>\n",
       "      <td>2020-12-16</td>\n",
       "      <td>0.0</td>\n",
       "      <td>84.0</td>\n",
       "      <td>291</td>\n",
       "      <td>0.9749</td>\n",
       "    </tr>\n",
       "    <tr>\n",
       "      <th>4</th>\n",
       "      <td>1001</td>\n",
       "      <td>0.0596</td>\n",
       "      <td>0.1725</td>\n",
       "      <td>0.1468</td>\n",
       "      <td>0.1315</td>\n",
       "      <td>0.1321</td>\n",
       "      <td>0.1965</td>\n",
       "      <td>0.0922</td>\n",
       "      <td>0.0689</td>\n",
       "      <td>2020-12-17</td>\n",
       "      <td>0.0</td>\n",
       "      <td>60.0</td>\n",
       "      <td>292</td>\n",
       "      <td>0.4339</td>\n",
       "    </tr>\n",
       "  </tbody>\n",
       "</table>\n",
       "</div>"
      ],
      "text/plain": [
       "   FIPS  UNDER5  AGE517  AGE1829  AGE3039  AGE4049  AGE5064  AGE6574  \\\n",
       "0  1001  0.0596  0.1725   0.1468   0.1315   0.1321   0.1965   0.0922   \n",
       "1  1001  0.0596  0.1725   0.1468   0.1315   0.1321   0.1965   0.0922   \n",
       "2  1001  0.0596  0.1725   0.1468   0.1315   0.1321   0.1965   0.0922   \n",
       "3  1001  0.0596  0.1725   0.1468   0.1315   0.1321   0.1965   0.0922   \n",
       "4  1001  0.0596  0.1725   0.1468   0.1315   0.1321   0.1965   0.0922   \n",
       "\n",
       "   AGE75PLUS        Date  VaccinationFull  Cases  TimeFromStart  SinWeekly  \n",
       "0     0.0689  2020-12-13              0.0    0.0            288    -0.7818  \n",
       "1     0.0689  2020-12-14              0.0   96.0            289     0.0000  \n",
       "2     0.0689  2020-12-15              0.0   97.0            290     0.7818  \n",
       "3     0.0689  2020-12-16              0.0   84.0            291     0.9749  \n",
       "4     0.0689  2020-12-17              0.0   60.0            292     0.4339  "
      ]
     },
     "execution_count": 6,
     "metadata": {},
     "output_type": "execute_result"
    }
   ],
   "source": [
    "total_data = pd.read_csv(args.input_filePath)\n",
    "print(total_data.shape)\n",
    "total_data.head()"
   ]
  },
  {
   "cell_type": "code",
   "execution_count": 7,
   "metadata": {},
   "outputs": [
    {
     "name": "stdout",
     "output_type": "stream",
     "text": [
      "Static features ['UNDER5', 'AGE517', 'AGE1829', 'AGE3039', 'AGE4049', 'AGE5064', 'AGE6574', 'AGE75PLUS'].   Choosing feature AGE1829.\n"
     ]
    }
   ],
   "source": [
    "import json\n",
    "import sys\n",
    "sys.path.append( '..' )\n",
    "from Class.Parameters import Parameters\n",
    "from script.utils import *\n",
    "\n",
    "with open(args.configPath, 'r') as input_file:\n",
    "  config = json.load(input_file)\n",
    "\n",
    "parameters = Parameters(config, **config)\n",
    "\n",
    "print(f'Static features {parameters.data.static_features}. \\\n",
    "  Choosing feature {parameters.data.static_features[args.static_feature_index]}.')\n",
    "# here we are going to train by one static feature at a time\n",
    "parameters.data.static_features = [parameters.data.static_features[args.static_feature_index]]\n",
    "\n",
    "# %%\n",
    "targets = parameters.data.targets\n",
    "time_idx = parameters.data.time_idx\n",
    "tft_params = parameters.model_parameters\n",
    "\n",
    "max_prediction_length = tft_params.target_sequence_length\n",
    "max_encoder_length = tft_params.input_sequence_length"
   ]
  },
  {
   "cell_type": "code",
   "execution_count": 8,
   "metadata": {},
   "outputs": [
    {
     "name": "stderr",
     "output_type": "stream",
     "text": [
      "[rank: 0] Global seed set to 7\n"
     ]
    }
   ],
   "source": [
    "import random\n",
    "\n",
    "def seed_torch(seed=7):\n",
    "    random.seed(seed)\n",
    "    os.environ['PYTHONHASHSEED'] = str(seed)\n",
    "    pl.seed_everything(seed)\n",
    "\n",
    "seed_torch(tft_params.seed)"
   ]
  },
  {
   "cell_type": "code",
   "execution_count": 9,
   "metadata": {},
   "outputs": [
    {
     "name": "stdout",
     "output_type": "stream",
     "text": [
      "There are 3142 unique counties in the dataset.\n"
     ]
    }
   ],
   "source": [
    "total_data['Date'] = pd.to_datetime(total_data['Date'].values) \n",
    "total_data['FIPS'] = total_data['FIPS'].astype(str)\n",
    "print(f\"There are {total_data['FIPS'].nunique()} unique counties in the dataset.\")"
   ]
  },
  {
   "cell_type": "code",
   "execution_count": 10,
   "metadata": {},
   "outputs": [
    {
     "data": {
      "text/plain": [
       "<function script.utils.scale_data(train_data: pandas.core.frame.DataFrame, validation_data: pandas.core.frame.DataFrame, test_data: pandas.core.frame.DataFrame, parameters: Class.Parameters.Parameters)>"
      ]
     },
     "execution_count": 10,
     "metadata": {},
     "output_type": "execute_result"
    }
   ],
   "source": [
    "scale_data"
   ]
  },
  {
   "cell_type": "code",
   "execution_count": null,
   "metadata": {},
   "outputs": [],
   "source": []
  }
 ],
 "metadata": {
  "kernelspec": {
   "display_name": "My kernel",
   "language": "python",
   "name": "tft_pytorch"
  },
  "language_info": {
   "codemirror_mode": {
    "name": "ipython",
    "version": 3
   },
   "file_extension": ".py",
   "mimetype": "text/x-python",
   "name": "python",
   "nbconvert_exporter": "python",
   "pygments_lexer": "ipython3",
   "version": "3.8.16"
  }
 },
 "nbformat": 4,
 "nbformat_minor": 4
}

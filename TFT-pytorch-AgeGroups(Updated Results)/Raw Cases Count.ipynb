{
 "cells": [
  {
   "cell_type": "code",
   "execution_count": 1,
   "metadata": {},
   "outputs": [],
   "source": [
    "# Import libraries\n",
    "import numpy as np\n",
    "import pandas as pd\n",
    "import matplotlib.pyplot as plt"
   ]
  },
  {
   "cell_type": "code",
   "execution_count": 2,
   "metadata": {},
   "outputs": [],
   "source": [
    "# Import data from csv\n",
    "ages = ['UNDER5', 'AGE517', 'AGE1829', 'AGE4049', 'AGE3039', 'AGE5064', 'AGE6574', 'AGE75PLUS']\n",
    "morris = 'figures_morris_experiment1'\n",
    "\n",
    "data = []\n",
    "for i in range(len(ages)):\n",
    "    x = pd.read_csv('./results/Original/' + ages[i] + '/figures/predictions.csv')\n",
    "    data.append(x)"
   ]
  },
  {
   "cell_type": "code",
   "execution_count": 3,
   "metadata": {},
   "outputs": [],
   "source": [
    "# Convert Date column to DateTime\n",
    "for i in range(len(ages)):\n",
    "    data[i]['Date'] = pd.to_datetime(data[i]['Date'])\n",
    "    data[i] = data[i].sort_values(by=['Date'])\n",
    "    data[i] = data[i].reset_index().drop(columns=['index'])"
   ]
  },
  {
   "cell_type": "code",
   "execution_count": 4,
   "metadata": {},
   "outputs": [],
   "source": [
    "# Select date range (3/1/2020 to 11/27/2021)\n",
    "for i in range(len(ages)):\n",
    "    data[i] = data[i][(data[i]['Date'] >= '2020-03-07') & (data[i]['Date'] <= '2020-11-27')]"
   ]
  },
  {
   "cell_type": "code",
   "execution_count": 7,
   "metadata": {},
   "outputs": [],
   "source": [
    "# Number of cases in time range\n",
    "cases = []\n",
    "for i in range(len(ages)):\n",
    "    x = data[i]['Cases'].sum()\n",
    "    cases.append(x)\n",
    "\n",
    "# Number of predicted cases in time range\n",
    "pred_cases = []\n",
    "for i in range(len(ages)):\n",
    "    x = data[i]['Predicted_Cases'].sum()\n",
    "    pred_cases.append(x)"
   ]
  },
  {
   "cell_type": "code",
   "execution_count": 10,
   "metadata": {},
   "outputs": [],
   "source": [
    "d = {'Cases (Census)': cases, 'Predicted Cases (TFT Model)': pred_cases}\n",
    "df = pd.DataFrame(data=d, index=ages)"
   ]
  },
  {
   "cell_type": "code",
   "execution_count": 19,
   "metadata": {},
   "outputs": [
    {
     "data": {
      "text/html": [
       "<style  type=\"text/css\" >\n",
       "#T_4352dc2a_c69e_11ed_82af_78ac4422b998row0_col0,#T_4352dc2a_c69e_11ed_82af_78ac4422b998row1_col0,#T_4352dc2a_c69e_11ed_82af_78ac4422b998row2_col0,#T_4352dc2a_c69e_11ed_82af_78ac4422b998row3_col0,#T_4352dc2a_c69e_11ed_82af_78ac4422b998row4_col0,#T_4352dc2a_c69e_11ed_82af_78ac4422b998row5_col0,#T_4352dc2a_c69e_11ed_82af_78ac4422b998row6_col0,#T_4352dc2a_c69e_11ed_82af_78ac4422b998row7_col0,#T_4352dc2a_c69e_11ed_82af_78ac4422b998row7_col1{\n",
       "            background-color:  #f7fbff;\n",
       "            color:  #000000;\n",
       "        }#T_4352dc2a_c69e_11ed_82af_78ac4422b998row0_col1{\n",
       "            background-color:  #5ba3d0;\n",
       "            color:  #000000;\n",
       "        }#T_4352dc2a_c69e_11ed_82af_78ac4422b998row1_col1{\n",
       "            background-color:  #e1edf8;\n",
       "            color:  #000000;\n",
       "        }#T_4352dc2a_c69e_11ed_82af_78ac4422b998row2_col1{\n",
       "            background-color:  #3484bf;\n",
       "            color:  #000000;\n",
       "        }#T_4352dc2a_c69e_11ed_82af_78ac4422b998row3_col1{\n",
       "            background-color:  #08306b;\n",
       "            color:  #f1f1f1;\n",
       "        }#T_4352dc2a_c69e_11ed_82af_78ac4422b998row4_col1{\n",
       "            background-color:  #a8cee4;\n",
       "            color:  #000000;\n",
       "        }#T_4352dc2a_c69e_11ed_82af_78ac4422b998row5_col1{\n",
       "            background-color:  #083e81;\n",
       "            color:  #f1f1f1;\n",
       "        }#T_4352dc2a_c69e_11ed_82af_78ac4422b998row6_col1{\n",
       "            background-color:  #72b2d8;\n",
       "            color:  #000000;\n",
       "        }</style><table id=\"T_4352dc2a_c69e_11ed_82af_78ac4422b998\" ><thead>    <tr>        <th class=\"blank level0\" ></th>        <th class=\"col_heading level0 col0\" >Cases (Census)</th>        <th class=\"col_heading level0 col1\" >Predicted Cases (TFT Model)</th>    </tr></thead><tbody>\n",
       "                <tr>\n",
       "                        <th id=\"T_4352dc2a_c69e_11ed_82af_78ac4422b998level0_row0\" class=\"row_heading level0 row0\" >UNDER5</th>\n",
       "                        <td id=\"T_4352dc2a_c69e_11ed_82af_78ac4422b998row0_col0\" class=\"data row0 col0\" >1.283e+07</td>\n",
       "                        <td id=\"T_4352dc2a_c69e_11ed_82af_78ac4422b998row0_col1\" class=\"data row0 col1\" >1.247e+07</td>\n",
       "            </tr>\n",
       "            <tr>\n",
       "                        <th id=\"T_4352dc2a_c69e_11ed_82af_78ac4422b998level0_row1\" class=\"row_heading level0 row1\" >AGE517</th>\n",
       "                        <td id=\"T_4352dc2a_c69e_11ed_82af_78ac4422b998row1_col0\" class=\"data row1 col0\" >1.283e+07</td>\n",
       "                        <td id=\"T_4352dc2a_c69e_11ed_82af_78ac4422b998row1_col1\" class=\"data row1 col1\" >1.186e+07</td>\n",
       "            </tr>\n",
       "            <tr>\n",
       "                        <th id=\"T_4352dc2a_c69e_11ed_82af_78ac4422b998level0_row2\" class=\"row_heading level0 row2\" >AGE1829</th>\n",
       "                        <td id=\"T_4352dc2a_c69e_11ed_82af_78ac4422b998row2_col0\" class=\"data row2 col0\" >1.283e+07</td>\n",
       "                        <td id=\"T_4352dc2a_c69e_11ed_82af_78ac4422b998row2_col1\" class=\"data row2 col1\" >1.265e+07</td>\n",
       "            </tr>\n",
       "            <tr>\n",
       "                        <th id=\"T_4352dc2a_c69e_11ed_82af_78ac4422b998level0_row3\" class=\"row_heading level0 row3\" >AGE4049</th>\n",
       "                        <td id=\"T_4352dc2a_c69e_11ed_82af_78ac4422b998row3_col0\" class=\"data row3 col0\" >1.283e+07</td>\n",
       "                        <td id=\"T_4352dc2a_c69e_11ed_82af_78ac4422b998row3_col1\" class=\"data row3 col1\" >1.310e+07</td>\n",
       "            </tr>\n",
       "            <tr>\n",
       "                        <th id=\"T_4352dc2a_c69e_11ed_82af_78ac4422b998level0_row4\" class=\"row_heading level0 row4\" >AGE3039</th>\n",
       "                        <td id=\"T_4352dc2a_c69e_11ed_82af_78ac4422b998row4_col0\" class=\"data row4 col0\" >1.283e+07</td>\n",
       "                        <td id=\"T_4352dc2a_c69e_11ed_82af_78ac4422b998row4_col1\" class=\"data row4 col1\" >1.219e+07</td>\n",
       "            </tr>\n",
       "            <tr>\n",
       "                        <th id=\"T_4352dc2a_c69e_11ed_82af_78ac4422b998level0_row5\" class=\"row_heading level0 row5\" >AGE5064</th>\n",
       "                        <td id=\"T_4352dc2a_c69e_11ed_82af_78ac4422b998row5_col0\" class=\"data row5 col0\" >1.283e+07</td>\n",
       "                        <td id=\"T_4352dc2a_c69e_11ed_82af_78ac4422b998row5_col1\" class=\"data row5 col1\" >1.302e+07</td>\n",
       "            </tr>\n",
       "            <tr>\n",
       "                        <th id=\"T_4352dc2a_c69e_11ed_82af_78ac4422b998level0_row6\" class=\"row_heading level0 row6\" >AGE6574</th>\n",
       "                        <td id=\"T_4352dc2a_c69e_11ed_82af_78ac4422b998row6_col0\" class=\"data row6 col0\" >1.283e+07</td>\n",
       "                        <td id=\"T_4352dc2a_c69e_11ed_82af_78ac4422b998row6_col1\" class=\"data row6 col1\" >1.238e+07</td>\n",
       "            </tr>\n",
       "            <tr>\n",
       "                        <th id=\"T_4352dc2a_c69e_11ed_82af_78ac4422b998level0_row7\" class=\"row_heading level0 row7\" >AGE75PLUS</th>\n",
       "                        <td id=\"T_4352dc2a_c69e_11ed_82af_78ac4422b998row7_col0\" class=\"data row7 col0\" >1.283e+07</td>\n",
       "                        <td id=\"T_4352dc2a_c69e_11ed_82af_78ac4422b998row7_col1\" class=\"data row7 col1\" >1.170e+07</td>\n",
       "            </tr>\n",
       "    </tbody></table>"
      ],
      "text/plain": [
       "<pandas.io.formats.style.Styler at 0x7fddf3545190>"
      ]
     },
     "execution_count": 19,
     "metadata": {},
     "output_type": "execute_result"
    }
   ],
   "source": [
    "colors = \"Blues\"\n",
    "df.style.background_gradient(colors)\\\n",
    "    .format({'Cases (Census)': '{:.3e}', 'Predicted Cases (TFT Model)': '{:.3e}'})"
   ]
  },
  {
   "cell_type": "code",
   "execution_count": null,
   "metadata": {},
   "outputs": [],
   "source": []
  }
 ],
 "metadata": {
  "kernelspec": {
   "display_name": "Python 3",
   "language": "python",
   "name": "python3"
  },
  "language_info": {
   "codemirror_mode": {
    "name": "ipython",
    "version": 3
   },
   "file_extension": ".py",
   "mimetype": "text/x-python",
   "name": "python",
   "nbconvert_exporter": "python",
   "pygments_lexer": "ipython3",
   "version": "3.8.8"
  }
 },
 "nbformat": 4,
 "nbformat_minor": 4
}

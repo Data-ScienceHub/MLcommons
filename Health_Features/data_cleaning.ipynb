{
 "cells": [
  {
   "cell_type": "code",
   "execution_count": null,
   "id": "99b2a0aa-297a-4f17-a2eb-b000abf6e4f9",
   "metadata": {},
   "outputs": [],
   "source": [
    "import numpy as np\n",
    "import pandas as pd"
   ]
  },
  {
   "cell_type": "code",
   "execution_count": null,
   "id": "eadf94be-24cf-43bd-802a-7a3b9d06af76",
   "metadata": {},
   "outputs": [],
   "source": [
    "data = pd.read_csv('analytic_data2021.csv', \n",
    "        usecols=['County FIPS Code', '5-digit FIPS Code',\n",
    "                'Poor or fair health raw value',          \n",
    "                'Adult obesity raw value',\n",
    "                'Diabetes prevalence raw value',\n",
    "                'Physical inactivity raw value',\n",
    "                'Food insecurity raw value'],\n",
    "        low_memory=False,\n",
    "        skiprows=list(np.arange(1, 2))\n",
    ")"
   ]
  },
  {
   "cell_type": "code",
   "execution_count": null,
   "id": "b278a79d",
   "metadata": {},
   "outputs": [],
   "source": [
    "data.columns = [col.replace(' raw value', '') for col in data.columns]\n",
    "data = data[data['County FIPS Code'] != 0].reset_index().drop(columns=['index','County FIPS Code'])\n",
    "data.rename(\n",
    "    {'5-digit FIPS Code':'FIPS'}, axis=1, inplace=True\n",
    ")\n",
    "data"
   ]
  },
  {
   "cell_type": "code",
   "execution_count": null,
   "id": "d4499d1c-193e-4871-971d-289b2bb5bd3a",
   "metadata": {},
   "outputs": [],
   "source": [
    "data.to_csv('../dataset_raw/CovidMay17-2022/health_features.csv', index=False)  "
   ]
  }
 ],
 "metadata": {
  "kernelspec": {
   "display_name": "base",
   "language": "python",
   "name": "python3"
  },
  "language_info": {
   "codemirror_mode": {
    "name": "ipython",
    "version": 3
   },
   "file_extension": ".py",
   "mimetype": "text/x-python",
   "name": "python",
   "nbconvert_exporter": "python",
   "pygments_lexer": "ipython3",
   "version": "3.9.15"
  },
  "vscode": {
   "interpreter": {
    "hash": "43fc5fbfa959c1c54ddf7d7acab30a2019a504b895513ba1ba722e7f395657c0"
   }
  }
 },
 "nbformat": 4,
 "nbformat_minor": 5
}

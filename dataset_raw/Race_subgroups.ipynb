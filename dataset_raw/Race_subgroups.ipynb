{
 "cells": [
  {
   "cell_type": "code",
   "execution_count": 1,
   "id": "99b2a0aa-297a-4f17-a2eb-b000abf6e4f9",
   "metadata": {},
   "outputs": [],
   "source": [
    "import numpy as np\n",
    "import pandas as pd"
   ]
  },
  {
   "cell_type": "code",
   "execution_count": 2,
   "id": "eadf94be-24cf-43bd-802a-7a3b9d06af76",
   "metadata": {},
   "outputs": [],
   "source": [
    "data = pd.read_csv('https://www2.census.gov/programs-surveys/popest/datasets/2020-2021/counties/asrh/cc-est2021-all.csv', \n",
    "                   usecols=['STATE', 'COUNTY', 'YEAR', 'AGEGRP', 'STNAME', 'TOT_POP',\n",
    "                            'NHWA_MALE', 'NHWA_FEMALE', \n",
    "                            'NHIA_MALE', 'NHIA_FEMALE',\n",
    "                            'NHAA_MALE', 'NHAA_FEMALE',\n",
    "                            'NHBA_MALE', 'NHBA_FEMALE',\n",
    "                            'H_MALE', 'H_FEMALE'], encoding='latin-1')"
   ]
  },
  {
   "cell_type": "code",
   "execution_count": 3,
   "id": "9a4d3079",
   "metadata": {},
   "outputs": [],
   "source": [
    "data = data[data.YEAR == 1]\n",
    "data = data[data.AGEGRP == 0]\n",
    "data.drop(columns=['YEAR', 'AGEGRP', 'STNAME'], inplace=True)"
   ]
  },
  {
   "cell_type": "code",
   "execution_count": 4,
   "id": "4d57c61c",
   "metadata": {},
   "outputs": [],
   "source": [
    "data.insert(0, \"FIPS\", (data.STATE * 1E3) + data.COUNTY, True)\n",
    "data['FIPS'] = pd.to_numeric(data['FIPS'], downcast='integer')\n",
    "data.drop(columns=['STATE', 'COUNTY'], inplace=True)\n",
    "data.insert(1, \"White\", data.NHWA_MALE + data.NHWA_FEMALE, True)\n",
    "data.drop(columns=['NHWA_MALE', 'NHWA_FEMALE'], inplace=True)\n",
    "data.insert(2, \"Black\", data.NHBA_MALE + data.NHBA_FEMALE, True)\n",
    "data.drop(columns=['NHBA_MALE', 'NHBA_FEMALE'], inplace=True)\n",
    "data.insert(3, \"AIAN\", data.NHIA_MALE + data.NHIA_FEMALE, True)\n",
    "data.drop(columns=['NHIA_MALE', 'NHIA_FEMALE'], inplace=True)\n",
    "data.insert(3, \"Asian\", data.NHAA_MALE + data.NHAA_FEMALE, True)\n",
    "data.drop(columns=['NHAA_MALE', 'NHAA_FEMALE'], inplace=True)\n",
    "data.insert(4, \"Hispanic\", data.H_MALE + data.H_FEMALE, True)\n",
    "data.drop(columns=['H_MALE', 'H_FEMALE'], inplace=True)\n",
    "data = data.reset_index(drop=True)"
   ]
  },
  {
   "cell_type": "code",
   "execution_count": 5,
   "id": "c722da25",
   "metadata": {},
   "outputs": [
    {
     "data": {
      "text/html": [
       "<div>\n",
       "<style scoped>\n",
       "    .dataframe tbody tr th:only-of-type {\n",
       "        vertical-align: middle;\n",
       "    }\n",
       "\n",
       "    .dataframe tbody tr th {\n",
       "        vertical-align: top;\n",
       "    }\n",
       "\n",
       "    .dataframe thead th {\n",
       "        text-align: right;\n",
       "    }\n",
       "</style>\n",
       "<table border=\"1\" class=\"dataframe\">\n",
       "  <thead>\n",
       "    <tr style=\"text-align: right;\">\n",
       "      <th></th>\n",
       "      <th>FIPS</th>\n",
       "      <th>White</th>\n",
       "      <th>Black</th>\n",
       "      <th>Asian</th>\n",
       "      <th>Hispanic</th>\n",
       "      <th>AIAN</th>\n",
       "      <th>TOT_POP</th>\n",
       "    </tr>\n",
       "  </thead>\n",
       "  <tbody>\n",
       "    <tr>\n",
       "      <th>72</th>\n",
       "      <td>2063</td>\n",
       "      <td>4877</td>\n",
       "      <td>50</td>\n",
       "      <td>454</td>\n",
       "      <td>421</td>\n",
       "      <td>816</td>\n",
       "      <td>7102</td>\n",
       "    </tr>\n",
       "  </tbody>\n",
       "</table>\n",
       "</div>"
      ],
      "text/plain": [
       "    FIPS  White  Black  Asian  Hispanic  AIAN  TOT_POP\n",
       "72  2063   4877     50    454       421   816     7102"
      ]
     },
     "execution_count": 5,
     "metadata": {},
     "output_type": "execute_result"
    }
   ],
   "source": [
    "data[data['FIPS'] == 2063]"
   ]
  },
  {
   "cell_type": "code",
   "execution_count": 6,
   "id": "c76ce07f",
   "metadata": {},
   "outputs": [
    {
     "data": {
      "text/html": [
       "<div>\n",
       "<style scoped>\n",
       "    .dataframe tbody tr th:only-of-type {\n",
       "        vertical-align: middle;\n",
       "    }\n",
       "\n",
       "    .dataframe tbody tr th {\n",
       "        vertical-align: top;\n",
       "    }\n",
       "\n",
       "    .dataframe thead th {\n",
       "        text-align: right;\n",
       "    }\n",
       "</style>\n",
       "<table border=\"1\" class=\"dataframe\">\n",
       "  <thead>\n",
       "    <tr style=\"text-align: right;\">\n",
       "      <th></th>\n",
       "      <th>FIPS</th>\n",
       "      <th>White</th>\n",
       "      <th>Black</th>\n",
       "      <th>Asian</th>\n",
       "      <th>Hispanic</th>\n",
       "      <th>AIAN</th>\n",
       "      <th>TOT_POP</th>\n",
       "    </tr>\n",
       "  </thead>\n",
       "  <tbody>\n",
       "    <tr>\n",
       "      <th>73</th>\n",
       "      <td>2066</td>\n",
       "      <td>1743</td>\n",
       "      <td>17</td>\n",
       "      <td>71</td>\n",
       "      <td>137</td>\n",
       "      <td>436</td>\n",
       "      <td>2617</td>\n",
       "    </tr>\n",
       "  </tbody>\n",
       "</table>\n",
       "</div>"
      ],
      "text/plain": [
       "    FIPS  White  Black  Asian  Hispanic  AIAN  TOT_POP\n",
       "73  2066   1743     17     71       137   436     2617"
      ]
     },
     "execution_count": 6,
     "metadata": {},
     "output_type": "execute_result"
    }
   ],
   "source": [
    "data[data['FIPS'] == 2066]"
   ]
  },
  {
   "cell_type": "code",
   "execution_count": 7,
   "id": "7d34820d",
   "metadata": {},
   "outputs": [
    {
     "data": {
      "text/html": [
       "<div>\n",
       "<style scoped>\n",
       "    .dataframe tbody tr th:only-of-type {\n",
       "        vertical-align: middle;\n",
       "    }\n",
       "\n",
       "    .dataframe tbody tr th {\n",
       "        vertical-align: top;\n",
       "    }\n",
       "\n",
       "    .dataframe thead th {\n",
       "        text-align: right;\n",
       "    }\n",
       "</style>\n",
       "<table border=\"1\" class=\"dataframe\">\n",
       "  <thead>\n",
       "    <tr style=\"text-align: right;\">\n",
       "      <th></th>\n",
       "      <th>FIPS</th>\n",
       "      <th>White</th>\n",
       "      <th>Black</th>\n",
       "      <th>Asian</th>\n",
       "      <th>Hispanic</th>\n",
       "      <th>AIAN</th>\n",
       "      <th>TOT_POP</th>\n",
       "    </tr>\n",
       "  </thead>\n",
       "  <tbody>\n",
       "    <tr>\n",
       "      <th>0</th>\n",
       "      <td>4129</td>\n",
       "      <td>6620</td>\n",
       "      <td>67</td>\n",
       "      <td>525</td>\n",
       "      <td>558</td>\n",
       "      <td>1252</td>\n",
       "      <td>9719</td>\n",
       "    </tr>\n",
       "  </tbody>\n",
       "</table>\n",
       "</div>"
      ],
      "text/plain": [
       "   FIPS  White  Black  Asian  Hispanic  AIAN  TOT_POP\n",
       "0  4129   6620     67    525       558  1252     9719"
      ]
     },
     "execution_count": 7,
     "metadata": {},
     "output_type": "execute_result"
    }
   ],
   "source": [
    "data[data['FIPS'] == 2063].reset_index(drop=True) + data[data['FIPS'] == 2066].reset_index(drop=True)"
   ]
  },
  {
   "cell_type": "code",
   "execution_count": 8,
   "id": "92211d9b",
   "metadata": {},
   "outputs": [],
   "source": [
    "data.loc[72] = [2261, 6620, 67, 525, 558, 1252, 9719]"
   ]
  },
  {
   "cell_type": "code",
   "execution_count": 9,
   "id": "c3d6271a",
   "metadata": {},
   "outputs": [],
   "source": [
    "data.drop([73], inplace=True) "
   ]
  },
  {
   "cell_type": "code",
   "execution_count": 10,
   "id": "fd34fa79",
   "metadata": {},
   "outputs": [],
   "source": [
    "data.White = data.White / data.TOT_POP\n",
    "data.Black = data.Black / data.TOT_POP\n",
    "data.Asian = data.Asian / data.TOT_POP\n",
    "data.Hispanic = data.Hispanic / data.TOT_POP\n",
    "data.AIAN = data.AIAN / data.TOT_POP"
   ]
  },
  {
   "cell_type": "code",
   "execution_count": 11,
   "id": "ded43735",
   "metadata": {},
   "outputs": [],
   "source": [
    "data.drop(columns=['TOT_POP'], inplace=True)"
   ]
  },
  {
   "cell_type": "code",
   "execution_count": 12,
   "id": "75df02a5",
   "metadata": {},
   "outputs": [
    {
     "data": {
      "text/html": [
       "<div>\n",
       "<style scoped>\n",
       "    .dataframe tbody tr th:only-of-type {\n",
       "        vertical-align: middle;\n",
       "    }\n",
       "\n",
       "    .dataframe tbody tr th {\n",
       "        vertical-align: top;\n",
       "    }\n",
       "\n",
       "    .dataframe thead th {\n",
       "        text-align: right;\n",
       "    }\n",
       "</style>\n",
       "<table border=\"1\" class=\"dataframe\">\n",
       "  <thead>\n",
       "    <tr style=\"text-align: right;\">\n",
       "      <th></th>\n",
       "      <th>FIPS</th>\n",
       "      <th>White</th>\n",
       "      <th>Black</th>\n",
       "      <th>Asian</th>\n",
       "      <th>Hispanic</th>\n",
       "      <th>AIAN</th>\n",
       "    </tr>\n",
       "  </thead>\n",
       "  <tbody>\n",
       "    <tr>\n",
       "      <th>0</th>\n",
       "      <td>1001</td>\n",
       "      <td>0.732591</td>\n",
       "      <td>0.202330</td>\n",
       "      <td>0.011309</td>\n",
       "      <td>0.031358</td>\n",
       "      <td>0.004234</td>\n",
       "    </tr>\n",
       "    <tr>\n",
       "      <th>1</th>\n",
       "      <td>1003</td>\n",
       "      <td>0.832215</td>\n",
       "      <td>0.085129</td>\n",
       "      <td>0.010813</td>\n",
       "      <td>0.046896</td>\n",
       "      <td>0.006761</td>\n",
       "    </tr>\n",
       "    <tr>\n",
       "      <th>2</th>\n",
       "      <td>1005</td>\n",
       "      <td>0.452365</td>\n",
       "      <td>0.478095</td>\n",
       "      <td>0.004480</td>\n",
       "      <td>0.047179</td>\n",
       "      <td>0.003727</td>\n",
       "    </tr>\n",
       "    <tr>\n",
       "      <th>3</th>\n",
       "      <td>1007</td>\n",
       "      <td>0.741758</td>\n",
       "      <td>0.209887</td>\n",
       "      <td>0.002153</td>\n",
       "      <td>0.029157</td>\n",
       "      <td>0.004172</td>\n",
       "    </tr>\n",
       "    <tr>\n",
       "      <th>4</th>\n",
       "      <td>1009</td>\n",
       "      <td>0.867200</td>\n",
       "      <td>0.015321</td>\n",
       "      <td>0.003484</td>\n",
       "      <td>0.096222</td>\n",
       "      <td>0.004769</td>\n",
       "    </tr>\n",
       "    <tr>\n",
       "      <th>...</th>\n",
       "      <td>...</td>\n",
       "      <td>...</td>\n",
       "      <td>...</td>\n",
       "      <td>...</td>\n",
       "      <td>...</td>\n",
       "      <td>...</td>\n",
       "    </tr>\n",
       "    <tr>\n",
       "      <th>3138</th>\n",
       "      <td>56037</td>\n",
       "      <td>0.791635</td>\n",
       "      <td>0.011071</td>\n",
       "      <td>0.009037</td>\n",
       "      <td>0.162211</td>\n",
       "      <td>0.007712</td>\n",
       "    </tr>\n",
       "    <tr>\n",
       "      <th>3139</th>\n",
       "      <td>56039</td>\n",
       "      <td>0.810424</td>\n",
       "      <td>0.006986</td>\n",
       "      <td>0.014359</td>\n",
       "      <td>0.150358</td>\n",
       "      <td>0.003643</td>\n",
       "    </tr>\n",
       "    <tr>\n",
       "      <th>3140</th>\n",
       "      <td>56041</td>\n",
       "      <td>0.870954</td>\n",
       "      <td>0.005232</td>\n",
       "      <td>0.004499</td>\n",
       "      <td>0.098044</td>\n",
       "      <td>0.006112</td>\n",
       "    </tr>\n",
       "    <tr>\n",
       "      <th>3141</th>\n",
       "      <td>56043</td>\n",
       "      <td>0.824854</td>\n",
       "      <td>0.004034</td>\n",
       "      <td>0.007417</td>\n",
       "      <td>0.141965</td>\n",
       "      <td>0.006116</td>\n",
       "    </tr>\n",
       "    <tr>\n",
       "      <th>3142</th>\n",
       "      <td>56045</td>\n",
       "      <td>0.904797</td>\n",
       "      <td>0.006288</td>\n",
       "      <td>0.013600</td>\n",
       "      <td>0.040801</td>\n",
       "      <td>0.014624</td>\n",
       "    </tr>\n",
       "  </tbody>\n",
       "</table>\n",
       "<p>3142 rows × 6 columns</p>\n",
       "</div>"
      ],
      "text/plain": [
       "       FIPS     White     Black     Asian  Hispanic      AIAN\n",
       "0      1001  0.732591  0.202330  0.011309  0.031358  0.004234\n",
       "1      1003  0.832215  0.085129  0.010813  0.046896  0.006761\n",
       "2      1005  0.452365  0.478095  0.004480  0.047179  0.003727\n",
       "3      1007  0.741758  0.209887  0.002153  0.029157  0.004172\n",
       "4      1009  0.867200  0.015321  0.003484  0.096222  0.004769\n",
       "...     ...       ...       ...       ...       ...       ...\n",
       "3138  56037  0.791635  0.011071  0.009037  0.162211  0.007712\n",
       "3139  56039  0.810424  0.006986  0.014359  0.150358  0.003643\n",
       "3140  56041  0.870954  0.005232  0.004499  0.098044  0.006112\n",
       "3141  56043  0.824854  0.004034  0.007417  0.141965  0.006116\n",
       "3142  56045  0.904797  0.006288  0.013600  0.040801  0.014624\n",
       "\n",
       "[3142 rows x 6 columns]"
      ]
     },
     "execution_count": 12,
     "metadata": {},
     "output_type": "execute_result"
    }
   ],
   "source": [
    "data"
   ]
  },
  {
   "cell_type": "code",
   "execution_count": 13,
   "id": "d4499d1c-193e-4871-971d-289b2bb5bd3a",
   "metadata": {},
   "outputs": [],
   "source": [
    "data.to_csv('./CovidMay17-2022/race_features.csv', index=False)  "
   ]
  },
  {
   "cell_type": "code",
   "execution_count": null,
   "id": "266e3c2b",
   "metadata": {},
   "outputs": [],
   "source": []
  }
 ],
 "metadata": {
  "kernelspec": {
   "display_name": "base",
   "language": "python",
   "name": "python3"
  },
  "language_info": {
   "codemirror_mode": {
    "name": "ipython",
    "version": 3
   },
   "file_extension": ".py",
   "mimetype": "text/x-python",
   "name": "python",
   "nbconvert_exporter": "python",
   "pygments_lexer": "ipython3",
   "version": "3.10.10"
  },
  "vscode": {
   "interpreter": {
    "hash": "43fc5fbfa959c1c54ddf7d7acab30a2019a504b895513ba1ba722e7f395657c0"
   }
  }
 },
 "nbformat": 4,
 "nbformat_minor": 5
}

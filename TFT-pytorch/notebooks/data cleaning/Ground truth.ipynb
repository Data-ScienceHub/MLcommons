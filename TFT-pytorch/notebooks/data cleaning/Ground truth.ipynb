{
 "cells": [
  {
   "cell_type": "code",
   "execution_count": 50,
   "metadata": {},
   "outputs": [],
   "source": [
    "import os, sys\n",
    "import pandas as pd\n",
    "import numpy as np\n",
    "pd.set_option('display.max_columns', None)\n",
    "import warnings\n",
    "warnings.filterwarnings(\"ignore\")\n",
    "\n",
    "sys.path.append('..')\n",
    "from script.utils import *\n",
    "from Class.PlotConfig import *\n",
    "from Class.Plotter import *\n",
    "\n",
    "figPath = '../results/'"
   ]
  },
  {
   "cell_type": "code",
   "execution_count": 51,
   "metadata": {},
   "outputs": [],
   "source": [
    "first_date = to_datetime('02-29-2020')\n",
    "last_date = to_datetime('05-17-2022')\n",
    "# last_date = to_datetime('12-29-2021')"
   ]
  },
  {
   "cell_type": "code",
   "execution_count": 4,
   "metadata": {},
   "outputs": [
    {
     "name": "stdout",
     "output_type": "stream",
     "text": [
      "Loading cleaned\n"
     ]
    }
   ],
   "source": [
    "print('Loading original')\n",
    "df = pd.read_csv('../2022_May/Total.csv')\n",
    "df['Date'] = pd.to_datetime(df['Date'])\n",
    "df = df[(first_date <= df['Date']) & (df['Date']<= last_date)]\n",
    "original = df.describe().reset_index()\n",
    "# print(original)\n",
    "\n",
    "print('Loading cleaned')\n",
    "df = pd.read_csv('../2022_May_cleaned/Total.csv')\n",
    "df['Date'] = pd.to_datetime(df['Date'])\n",
    "df = df[(first_date <= df['Date']) & (df['Date']<= last_date)]\n",
    "cleaned = df.describe().reset_index()\n",
    "# print(cleaned)"
   ]
  },
  {
   "cell_type": "code",
   "execution_count": 7,
   "metadata": {},
   "outputs": [
    {
     "name": "stdout",
     "output_type": "stream",
     "text": [
      "AgeDist & 0.576 & 0.094 & 0.576 & 0.094 \\\\\n",
      "HealthDisp & 0.368 & 0.198 & 0.368 & 0.198 \\\\\n",
      "DiseaseSpread & 0.15 & 0.194 & 0.15 & 0.193 \\\\\n",
      "Transmission & 0.492 & 0.21 & 0.491 & 0.21 \\\\\n",
      "VaccinationFull & 20.609 & 22.922 & 20.609 & 22.923 \\\\\n",
      "SocialDist & 0.784 & 0.228 & 0.795 & 0.229 \\\\\n",
      "Cases & 31.667 & 337.405 & 27.183 & 174.15 \\\\\n",
      "Deaths & 0.378 & 2.853 & 0.239 & 2.244 \\\\\n"
     ]
    }
   ],
   "source": [
    "original = original.round(3)\n",
    "cleaned = cleaned.round(3)\n",
    "\n",
    "stats = ['mean', 'std']\n",
    "for feature in cleaned.columns:\n",
    "    # ignore index and calculated features\n",
    "    if feature in ['index', 'FIPS', 'LinearSpace', 'SinWeekly', 'CosWeekly', 'TimeFromStart']: continue\n",
    "\n",
    "    line = feature\n",
    "    for stat in stats:\n",
    "        value = original[original['index']==stat][feature].values[0]\n",
    "        line += f' & {value}'\n",
    "\n",
    "    for stat in stats:\n",
    "        value = cleaned[cleaned['index']==stat][feature].values[0]\n",
    "        line += f' & {value}'\n",
    "    line += ' \\\\\\\\'\n",
    "    print(line)"
   ]
  },
  {
   "cell_type": "code",
   "execution_count": null,
   "metadata": {},
   "outputs": [],
   "source": [
    "# df = pd.DataFrame({'FIPS':[1, 2], '2020-02-20':[1, 2], '2020-02-19':[2, 4], '2020-02-21':[10, 4], \n",
    "# '2020-02-22':[3, 1], '2020-02-23':[5, 4], '2020-02-24':[3, 8], '2020-02-25':[6, 4], '2020-02-26':[3, 4]})\n",
    "# id_vars = [col for col in df.columns if not valid_date(col)]\n",
    "# date_columns = [col for col in df.columns if col not in id_vars]\n",
    "# date_columns = sorted(date_columns)\n",
    "# df = df[id_vars+date_columns]\n",
    "# df"
   ]
  },
  {
   "cell_type": "code",
   "execution_count": 52,
   "metadata": {},
   "outputs": [],
   "source": [
    "targets = ['Cases', 'Deaths']\n",
    "total_raw =  pd.read_csv('../2022_May/Total.csv')[['Date'] + targets]\n",
    "total_raw = total_raw.groupby(['Date'])[targets].aggregate('sum').reset_index()\n",
    "\n",
    "total_cleaned =  pd.read_csv('../2022_May_cleaned/Total.csv')[['Date'] + targets]\n",
    "total_cleaned = total_cleaned.groupby(['Date'])[targets].aggregate('sum').reset_index()\n",
    "\n",
    "total_smoothed =  pd.read_csv('../2022_May_cleaned_moving_averaged/Total.csv')[['Date'] + targets]\n",
    "total_smoothed = total_smoothed.groupby(['Date'])[targets].aggregate('sum').reset_index()"
   ]
  },
  {
   "cell_type": "code",
   "execution_count": 53,
   "metadata": {},
   "outputs": [],
   "source": [
    "for df in [total_raw, total_cleaned, total_smoothed]:\n",
    "    df['Date'] = to_datetime(df['Date'])"
   ]
  },
  {
   "cell_type": "code",
   "execution_count": null,
   "metadata": {},
   "outputs": [],
   "source": [
    "import numpy as np\n",
    "\n",
    "# ['AgeDist', 'HealthDisp']\n",
    "static = np.array([1194937.8750,  731108.5625])\n",
    "\n",
    "# ['LinearSpace', 'SinWeekly', 'CosWeekly', 'DiseaseSpread', 'Transmission', 'VaccinationFull', 'SocialDist', 'Cases', 'Deaths'],\n",
    "encoder = np.array([ 70234.0938, 266382.2500, 166733.8750, 119877.3047,  86451.5547,\n",
    "        152106.8438,  93373.2109, 663901.0625, 306985.7812])\n",
    "\n",
    "# # ['LinearSpace', 'SinWeekly', 'CosWeekly'] \n",
    "decoder = np.array([762799.0625, 713305.5625, 449941.6250])\n",
    "for arr in [static, encoder, decoder]:\n",
    "    print(arr*100/arr.sum())"
   ]
  },
  {
   "cell_type": "code",
   "execution_count": null,
   "metadata": {},
   "outputs": [],
   "source": [
    "target_df = total_cleaned\n",
    "target_df.head()"
   ]
  },
  {
   "cell_type": "code",
   "execution_count": null,
   "metadata": {},
   "outputs": [],
   "source": [
    "def plot(df, target, scale:int=1e3, x_major_ticks:int=DATE_TICKS, figure_name:str=None):\n",
    "    fig, ax = plt.subplots(figsize=FIGSIZE)\n",
    "    x_column = 'Date'\n",
    "\n",
    "    plt.plot(df[x_column], df[target])\n",
    "    plt.ylim(bottom=0)\n",
    "\n",
    "    x_first_tick = df[x_column].min()\n",
    "    x_last_tick = df[x_column].max()\n",
    "    ax.set_xticks(\n",
    "        [x_first_tick + (x_last_tick - x_first_tick) * i / (x_major_ticks - 1) for i in range(x_major_ticks)]\n",
    "    )\n",
    "    plt.xticks(rotation = 15)\n",
    "        \n",
    "    if scale>1:\n",
    "        if scale==1e3 or scale==1e6:\n",
    "            label_text = [] \n",
    "            if scale ==1e3: unit = 'K'\n",
    "            else: unit = 'M'\n",
    "\n",
    "            for loc in plt.yticks()[0]:\n",
    "                if loc == 0:\n",
    "                    label_text.append('0')\n",
    "                else:\n",
    "                    label_text.append(f'{loc/scale:0.5g}{unit}') \n",
    "\n",
    "            ax.set_yticklabels(label_text)\n",
    "            plt.ylabel(f'Daily {target}')\n",
    "        else:\n",
    "            ax.yaxis.set_major_formatter(get_formatter(scale))\n",
    "            if scale==1e3: unit = 'in thousands'\n",
    "            elif scale==1e6: unit = 'in millions'\n",
    "            else: unit = f'x {scale:.0e}'\n",
    "\n",
    "            plt.ylabel(f'Daily {target} ({unit})')\n",
    "    else:\n",
    "        plt.ylabel(f'Daily {target}')\n",
    "\n",
    "    fig.tight_layout()\n",
    "\n",
    "    if figure_name is not None:\n",
    "        plt.savefig(os.path.join(figPath, figure_name), dpi=DPI)\n",
    "    plt.show()"
   ]
  },
  {
   "cell_type": "code",
   "execution_count": null,
   "metadata": {},
   "outputs": [],
   "source": [
    "for target in targets:\n",
    "    if target=='Cases':\n",
    "        plot(total_raw, target, figure_name=f'{target}_original.jpg', scale=1e6)\n",
    "    else:\n",
    "        plot(total_raw, target, figure_name=f'{target}_original.jpg')\n",
    "\n",
    "    plot(total_cleaned, target, figure_name=f'{target}_cleaned_iqr_7.5.jpg')\n",
    "    plot(total_smoothed, target, figure_name=f'{target}_cleaned_iqr_7.5_7_day_moving_averaged.jpg')"
   ]
  },
  {
   "cell_type": "code",
   "execution_count": null,
   "metadata": {},
   "outputs": [],
   "source": [
    "fig, ax = plt.subplots(figsize=FIGSIZE)\n",
    "\n",
    "for target in targets:\n",
    "    plt.plot(total_raw['Date'], total_raw[target], label=target)\n",
    "\n",
    "x_first_tick = total_raw['Date'].min()\n",
    "x_last_tick = total_raw['Date'].max()\n",
    "x_major_ticks = DATE_TICKS\n",
    "ax.set_xticks(\n",
    "    [x_first_tick + (x_last_tick - x_first_tick) * i / (x_major_ticks - 1) for i in range(x_major_ticks)]\n",
    ")\n",
    "plt.xticks(rotation = 15)\n",
    "plt.yscale('log')\n",
    "plt.ylabel(f'Daily count (log scaled)')\n",
    "\n",
    "plt.legend()\n",
    "fig.tight_layout()\n",
    "plt.savefig(os.path.join(figPath, 'Combined-log-scaled.jpg'), dpi=DPI)\n",
    "plt.show()"
   ]
  },
  {
   "cell_type": "code",
   "execution_count": 54,
   "metadata": {},
   "outputs": [],
   "source": [
    "splits =  {\n",
    "    'Primary': [to_datetime('2021-11-29'), (-100, 120)],\n",
    "    'Rising 3rd Wave': [to_datetime('2021-12-31'), (-120, 150)],\n",
    "    'Falling 3rd Wave': [to_datetime('2022-01-31'), (0, 220)],\n",
    "    'Post 3rd Wave': [to_datetime('2022-02-28'), (0, 180)]\n",
    "}\n",
    "df = total_cleaned"
   ]
  },
  {
   "cell_type": "code",
   "execution_count": 55,
   "metadata": {},
   "outputs": [],
   "source": [
    "target  ='Cases'\n",
    "scale=1e6\n",
    "x_major_ticks=DATE_TICKS\n",
    "x_column = 'Date'\n",
    "\n",
    "dates = df[x_column].values"
   ]
  },
  {
   "cell_type": "code",
   "execution_count": 66,
   "metadata": {},
   "outputs": [
    {
     "data": {
      "image/png": "[encoded data removed]",
      "text/plain": [
       "<Figure size 864x504 with 1 Axes>"
      ]
     },
     "metadata": {
      "needs_background": "light"
     },
     "output_type": "display_data"
    }
   ],
   "source": [
    "fig, ax = plt.subplots(figsize=FIGSIZE)\n",
    "plt.plot(dates, total_raw[target], color='blue', label='Raw', alpha=0.2)\n",
    "plt.plot(dates, total_cleaned[target], color='blue', label='Outlier Removed', alpha=0.7)\n",
    "# plt.plot(dates, total_smoothed[target], color='orange', label='7-days moving averaged', linewidth=3.5)\n",
    "plt.ylim(bottom=0)\n",
    "\n",
    "x_first_tick = dates.min()\n",
    "x_last_tick = dates.max()\n",
    "ax.set_xticks(\n",
    "    [x_first_tick + (x_last_tick - x_first_tick) * i / (x_major_ticks - 1) for i in range(x_major_ticks)]\n",
    ")\n",
    "# plt.xticks(rotation = 15)\n",
    "\n",
    "arrowprops = dict(arrowstyle=\"simple, head_length=0.5, head_width=0.3, tail_width=0.1\")\n",
    "splits =  {\n",
    "    'Primary': [to_datetime('2021-11-29'), (0, 120)],\n",
    "    'Rising 3rd Wave': [to_datetime('2021-12-31'), (0, 150)],\n",
    "    'Falling 3rd Wave': [to_datetime('2022-01-31'), (0, 150)],\n",
    "    'Post 3rd Wave': [to_datetime('2022-02-28'), (0, 120)]\n",
    "}\n",
    "for index, split in enumerate(splits):\n",
    "    x = splits[split][0]\n",
    "    y = df[df[x_column]==x][target].values[0]\n",
    "    ax.annotate('', \n",
    "        xy=(x, y),\n",
    "        xytext=splits[split][1], \n",
    "        textcoords='offset points',\n",
    "        size=25, \n",
    "        va=\"center\",ha='center',\n",
    "        arrowprops=dict(arrowstyle=\"->\", color='orange',lw=2, connectionstyle=\"arc3\"),\n",
    "        color='black'\n",
    "    )\n",
    "\n",
    "if scale>1:\n",
    "    if scale==1e3 or scale==1e6:\n",
    "        label_text = [] \n",
    "        if scale ==1e3: unit = 'K'\n",
    "        else: unit = 'M'\n",
    "\n",
    "        for loc in plt.yticks()[0]:\n",
    "            if loc == 0:\n",
    "                label_text.append('0')\n",
    "            else:\n",
    "                label_text.append(f'{loc/scale:0.5g}{unit}') \n",
    "\n",
    "        ax.set_yticklabels(label_text)\n",
    "        plt.ylabel(f'Daily {target}')\n",
    "    else:\n",
    "        ax.yaxis.set_major_formatter(get_formatter(scale))\n",
    "        if scale==1e3: unit = 'in thousands'\n",
    "        elif scale==1e6: unit = 'in millions'\n",
    "        else: unit = f'x {scale:.0e}'\n",
    "\n",
    "        plt.ylabel(f'Daily {target} ({unit})')\n",
    "else:\n",
    "    plt.ylabel(f'Daily {target}')\n",
    "\n",
    "fig.tight_layout()\n",
    "plt.legend(loc='upper left')\n",
    "\n",
    "plt.savefig(os.path.join(figPath, 'combined_ground_truth_3.jpg'), dpi=DPI)\n",
    "plt.show()"
   ]
  },
  {
   "cell_type": "code",
   "execution_count": 68,
   "metadata": {},
   "outputs": [
    {
     "data": {
      "text/plain": [
       "Timedelta('808 days 00:00:00')"
      ]
     },
     "execution_count": 68,
     "metadata": {},
     "output_type": "execute_result"
    }
   ],
   "source": [
    "to_datetime('05-17-2022') - to_datetime('02-29-2020')"
   ]
  },
  {
   "cell_type": "code",
   "execution_count": null,
   "metadata": {},
   "outputs": [],
   "source": [
    "# train_start = to_datetime('03-10-2020')\n",
    "# validation_start = to_datetime('01-15-2022')\n",
    "# test_start= to_datetime('04-16-2022')\n",
    "# test_end = to_datetime('07-28-2022')\n",
    "\n",
    "# train_days = (validation_start - train_start).days\n",
    "# val_days = (test_start  - validation_start).days\n",
    "# test_days = (test_end - test_start).days + 1\n",
    "# train_days,train_days%13, val_days,val_days%13, test_days, test_days%13"
   ]
  }
 ],
 "metadata": {
  "kernelspec": {
   "display_name": "Python 3.10.5 64-bit",
   "language": "python",
   "name": "python3"
  },
  "language_info": {
   "codemirror_mode": {
    "name": "ipython",
    "version": 3
   },
   "file_extension": ".py",
   "mimetype": "text/x-python",
   "name": "python",
   "nbconvert_exporter": "python",
   "pygments_lexer": "ipython3",
   "version": "3.10.5"
  },
  "orig_nbformat": 4,
  "vscode": {
   "interpreter": {
    "hash": "26de051ba29f2982a8de78e945f0abaf191376122a1563185a90213a26c5da77"
   }
  }
 },
 "nbformat": 4,
 "nbformat_minor": 2
}
